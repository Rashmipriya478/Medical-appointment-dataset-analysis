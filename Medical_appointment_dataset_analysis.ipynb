{
  "nbformat": 4,
  "nbformat_minor": 0,
  "metadata": {
    "colab": {
      "private_outputs": true,
      "provenance": []
    },
    "kernelspec": {
      "name": "python3",
      "display_name": "Python 3"
    },
    "language_info": {
      "name": "python"
    }
  },
  "cells": [
    {
      "cell_type": "markdown",
      "source": [
        "#Medical-appointment-dataset-analysis"
      ],
      "metadata": {
        "id": "kXIxsrZXPQH_"
      }
    },
    {
      "cell_type": "markdown",
      "source": [
        "Dataset Description\n",
        "\n",
        "A person makes a doctor appointment, receives all the instructions and no-show. Who to blame? This dataset collects information from 100k medical appointments in Brazil and is focused on the question of whether or not patients show up for their appointment. A number of characteristics about the patient are included in each row."
      ],
      "metadata": {
        "id": "81dZ4LT2PcJK"
      }
    },
    {
      "cell_type": "markdown",
      "source": [
        "Dataset Description\n",
        "\n",
        "A person makes a doctor appointment, receives all the instructions and no-show. Who to blame? This dataset collects information from 100k medical appointments in Brazil and is focused on the question of whether or not patients show up for their appointment. A number of characteristics about the patient are included in each row.\n",
        "\n",
        "Columns Description\n",
        "\n",
        "PatientId: Identification of a patient.\n",
        "\n",
        "AppointmentID: Identification of each appointment.\n",
        "\n",
        "Gender: Male or Female.\n",
        "\n",
        "AppointmentDay: The day of the actuall appointment, when they have to visit the doctor.\n",
        "\n",
        "ScheduledDay: The day someone called or registered the appointment, this is before appointment of course.\n",
        "\n",
        "Age: How old is the patient.\n",
        "\n",
        "Neighbourhood: Where the appointment takes place.\n",
        "\n",
        "Scholarship: True of False, indicates whether or not the patient is enrolled in Brasilian welfare program Bolsa Família.\n",
        "\n",
        "Hipertension: True or False.\n",
        "\n",
        "Diabetes: True or False.\n",
        "\n",
        "Alcoholism: True or False.\n",
        "\n",
        "Handcap: True or False.\n",
        "\n",
        "SMS_received: 1 or more messages sent to the patient.\n",
        "\n",
        "No-show: True (if the patient did not show up), or False (if the patient did show up)."
      ],
      "metadata": {
        "id": "Oj2N8dDaPeHw"
      }
    },
    {
      "cell_type": "markdown",
      "source": [
        "EDA Questions\n",
        "\n",
        "Q1: How often do men go to hospitals compared to women? Which of them is more likely to show up?\n",
        "\n",
        "Q2: Does recieving an SMS as a reminder affect whether or not a patient may show up? is it correlated with number of days before the appointment?\n",
        "\n",
        "Q3: Does having a scholarship affects showing up on a hospital appointment? What are the age groups affected by this?\n",
        "\n",
        "Q4: Does having certain deseases affect whather or not a patient may show up to their appointment? is it affected by gender?"
      ],
      "metadata": {
        "id": "T806I5lAPwJI"
      }
    },
    {
      "cell_type": "markdown",
      "source": [
        "#Environment set-up"
      ],
      "metadata": {
        "id": "mzzgxQuWP2k5"
      }
    },
    {
      "cell_type": "code",
      "source": [
        "# importing lib.\n",
        "import numpy as np\n",
        "import pandas as pd\n",
        "import matplotlib.pyplot as plt\n",
        "import seaborn as sns\n",
        "\n",
        "# getting the csv file directory\n",
        "import os\n",
        "for dirname, _, filenames in os.walk('/kaggle/input'):\n",
        "    for filename in filenames:\n",
        "        print(os.path.join(dirname, filename))"
      ],
      "metadata": {
        "id": "db8zNee-PyW5"
      },
      "execution_count": null,
      "outputs": []
    },
    {
      "cell_type": "markdown",
      "source": [
        "#Data Wrangling\n",
        "\n",
        "in this section, we'd load our data from a CSV file to a pandas dataframe, and then take a quick dive into exploring our dataset in details."
      ],
      "metadata": {
        "id": "CHbx-PPsQSX8"
      }
    },
    {
      "cell_type": "code",
      "source": [
        "# loading dataset from csv file and showing its first 5 rows\n",
        "df = pd.read_csv('noshowappointments-kagglev2-may-2016.csv')\n",
        "df.head()"
      ],
      "metadata": {
        "id": "GmLUogjcPsZU"
      },
      "execution_count": null,
      "outputs": []
    },
    {
      "cell_type": "markdown",
      "source": [
        "We'll move next into exploring our dataset by going through its data types, NaNs or duplicated rows, and any columns that may need to be dropped or parsed."
      ],
      "metadata": {
        "id": "Ez4ZRtsJQaTl"
      }
    },
    {
      "cell_type": "code",
      "source": [
        "# viewing main info about df\n",
        "df.info()"
      ],
      "metadata": {
        "id": "15qO7rkjQcBo"
      },
      "execution_count": null,
      "outputs": []
    },
    {
      "cell_type": "markdown",
      "source": [
        "We can notice there are no NaNs at all in our data\n",
        "\n",
        "PatientId and AppointmentId columns wouldn't be helpful during analysis.\n",
        "\n",
        "ScheduledDay and AppointmentDay needs to be casted to date data type.\n",
        "\n",
        "we may append a new column for days until appointment.\n",
        "\n",
        "Gender needs to be converted into a categoy type\n",
        "\n",
        "Scholarship Hipertension Diabetes Alcoholism Handcap better be boolean data type.\n",
        "\n",
        "No-show needs to be parsed and casted to boolean too."
      ],
      "metadata": {
        "id": "Ez3TQMOGQfaS"
      }
    },
    {
      "cell_type": "code",
      "source": [
        "# checking for duplicates\n",
        "df.duplicated().sum()"
      ],
      "metadata": {
        "id": "FETZYa0bQpSY"
      },
      "execution_count": null,
      "outputs": []
    },
    {
      "cell_type": "markdown",
      "source": [
        "our dataset has no duplicated rows either."
      ],
      "metadata": {
        "id": "RJhGHpV3QsBN"
      }
    },
    {
      "cell_type": "code",
      "source": [
        "# exploring the unique values of each column\n",
        "df.nunique()"
      ],
      "metadata": {
        "id": "nArqSsyyQt72"
      },
      "execution_count": null,
      "outputs": []
    },
    {
      "cell_type": "markdown",
      "source": [
        "Handcap and Age columns has inconsistant unique values.\n",
        "SMS_received would be casted to boolean data type."
      ],
      "metadata": {
        "id": "ABh_3S_SQxQw"
      }
    },
    {
      "cell_type": "code",
      "source": [
        "# exploring handcap values\n",
        "df['Handcap'].value_counts()"
      ],
      "metadata": {
        "id": "F_mF_M0hQzCL"
      },
      "execution_count": null,
      "outputs": []
    },
    {
      "cell_type": "markdown",
      "source": [
        "we'd be only intrested in rows with 0 or 1 values."
      ],
      "metadata": {
        "id": "N5bpX0MUQ1Lh"
      }
    },
    {
      "cell_type": "code",
      "source": [
        "# exploring age column distribution\n",
        "df['Age'].describe()"
      ],
      "metadata": {
        "id": "UPVZ5CsoQ2y1"
      },
      "execution_count": null,
      "outputs": []
    },
    {
      "cell_type": "markdown",
      "source": [
        "Age column would need to be handled."
      ],
      "metadata": {
        "id": "jDnh-44gQ8hY"
      }
    },
    {
      "cell_type": "markdown",
      "source": [
        "#Exploration Summery\n",
        "\n",
        "our dataset consists of 110527 rows with 14 columns, and has no NaNs nor duplicated values.\n",
        "\n",
        "PatientId and AppointmentId columns wouldn't be helpful during analysis.\n",
        "\n",
        "ScheduledDay and AppointmentDay needs to be casted to date data type.\n",
        "\n",
        "we may append a new column for days until appointment.\n",
        "\n",
        "Gender needs to be casted into a categoy type\n",
        "\n",
        "Scholarship, Hipertension, Diabetes, Alcoholism and SMS_recieved better be boolean data type.\n",
        "\n",
        "No-show column needs to be parsed and asted to boolean type.\n",
        "\n",
        "Handcap colume needs to be cleaned to have only 0 and 1 values.\n",
        "\n",
        "Age columns has inconsistant unique values that needs to be handled."
      ],
      "metadata": {
        "id": "VGHZtu7ARAK-"
      }
    },
    {
      "cell_type": "markdown",
      "source": [
        "#Data Cleaning\n",
        "\n",
        "in this section, we'd perform some operations on our dataset based on the previous findings to make our analysis more accurate and clear."
      ],
      "metadata": {
        "id": "mMIzkXxQRKOA"
      }
    },
    {
      "cell_type": "markdown",
      "source": [
        "\n",
        "Dropping PatientId and AppointmentId columns"
      ],
      "metadata": {
        "id": "lLBtWso3RO8I"
      }
    },
    {
      "cell_type": "code",
      "source": [
        "columns_to_drop = ['PatientId', 'AppointmentID']\n",
        "df.drop(columns=[col for col in columns_to_drop if col in df.columns], inplace=True)\n",
        "df.columns\n"
      ],
      "metadata": {
        "id": "FdO5xX55SFa1"
      },
      "execution_count": null,
      "outputs": []
    },
    {
      "cell_type": "markdown",
      "source": [
        "\n",
        "Handling date data type"
      ],
      "metadata": {
        "id": "0HswGPNwSJso"
      }
    },
    {
      "cell_type": "code",
      "source": [
        "df.AppointmentDay.unique"
      ],
      "metadata": {
        "id": "ULpK9CR8SLNk"
      },
      "execution_count": null,
      "outputs": []
    },
    {
      "cell_type": "markdown",
      "source": [
        "it looks like all hours are set to 00:00:00, so we would want to extract onl the year, month and day data"
      ],
      "metadata": {
        "id": "cWh-80cpSPj8"
      }
    },
    {
      "cell_type": "code",
      "source": [
        "# extracting only day, month and year values\n",
        "df['ScheduledDay'] = df['ScheduledDay'].str[:10]\n",
        "df['AppointmentDay'] = df['AppointmentDay'].str[:10]\n",
        "\n",
        "# changing data type\n",
        "df['ScheduledDay'] = pd.to_datetime(df['ScheduledDay'])\n",
        "df['AppointmentDay'] = pd.to_datetime(df['AppointmentDay'])\n",
        "\n",
        "# confirming changes\n",
        "print(df[['AppointmentDay', 'ScheduledDay']].dtypes)\n",
        "df.head()"
      ],
      "metadata": {
        "id": "OEqsu8DtSTGV"
      },
      "execution_count": null,
      "outputs": []
    },
    {
      "cell_type": "markdown",
      "source": [
        "Now, we'd move into appending a new column that holds number of days to the appointment."
      ],
      "metadata": {
        "id": "Yc2Sh02RSWXk"
      }
    },
    {
      "cell_type": "code",
      "source": [
        "# making new due days column\n",
        "df['due-days'] = df['AppointmentDay'] - df['ScheduledDay']\n",
        "\n",
        "# converting data type\n",
        "df['due-days'] = df['due-days'].dt.days\n",
        "\n",
        "# drop sch and appoint col\n",
        "df.drop(['AppointmentDay', 'ScheduledDay'], axis = 1, inplace = True)"
      ],
      "metadata": {
        "id": "dLa3ZoXrSX5e"
      },
      "execution_count": null,
      "outputs": []
    },
    {
      "cell_type": "markdown",
      "source": [
        "We'll move into exploring this new column."
      ],
      "metadata": {
        "id": "nXAaEoQNSa_i"
      }
    },
    {
      "cell_type": "code",
      "source": [
        "# viewing summery statistics\n",
        "df['due-days'].describe()"
      ],
      "metadata": {
        "id": "RHDDU-PYSQgk"
      },
      "execution_count": null,
      "outputs": []
    },
    {
      "cell_type": "markdown",
      "source": [
        "We seem to have some negative values here, we'll drop them."
      ],
      "metadata": {
        "id": "dzgpbQcUSgQl"
      }
    },
    {
      "cell_type": "code",
      "source": [
        "# viewing negative days values\n",
        "df[df['due-days'] < 0 ]"
      ],
      "metadata": {
        "id": "ISyfeMeXSjCu"
      },
      "execution_count": null,
      "outputs": []
    },
    {
      "cell_type": "code",
      "source": [
        "# dropping these values and confirming changes\n",
        "df.drop(df[df['due-days'] < 0].index, inplace = True)\n",
        "df['due-days'].describe()"
      ],
      "metadata": {
        "id": "RpKtkrBpSlPU"
      },
      "execution_count": null,
      "outputs": []
    },
    {
      "cell_type": "markdown",
      "source": [
        "\n",
        "Converting Gender and No-show to categorical variables"
      ],
      "metadata": {
        "id": "7SUcIKj0Sn1J"
      }
    },
    {
      "cell_type": "code",
      "source": [
        "# converting column and confirming changes\n",
        "df['Gender'] = df['Gender'].astype('category')\n",
        "\n",
        "df['Gender'].dtypes"
      ],
      "metadata": {
        "id": "IwfBnoj9Sqhf"
      },
      "execution_count": null,
      "outputs": []
    },
    {
      "cell_type": "markdown",
      "source": [
        "\n",
        "Converting Scholarship, Hipertension, Diabetes, Alcoholism, Handcap and SMS_recieved to boolean data type"
      ],
      "metadata": {
        "id": "8DTRIk7uSulq"
      }
    },
    {
      "cell_type": "code",
      "source": [
        "# converting columns to bool and confirming changes\n",
        "cols = ['Scholarship', 'Hipertension', 'Diabetes', 'Alcoholism', 'SMS_received']\n",
        "df[cols] = df[cols].astype('bool')\n",
        "df[cols].dtypes"
      ],
      "metadata": {
        "id": "jL60JnZaTDBm"
      },
      "execution_count": null,
      "outputs": []
    },
    {
      "cell_type": "markdown",
      "source": [
        "Parsing and casting No-show column"
      ],
      "metadata": {
        "id": "ry9U0HxaSuEX"
      }
    },
    {
      "cell_type": "code",
      "source": [
        "# mapping alues to be more familiar\n",
        "df.loc[df['No-show'] == 'Yes', 'No-show'] = 0\n",
        "df.loc[df['No-show'] == 'No', 'No-show'] = 1\n",
        "\n",
        "# casting dt type and confirming changes\n",
        "df['No-show'] = df['No-show'].astype(bool)\n",
        "df['No-show'].dtypes"
      ],
      "metadata": {
        "id": "SkDDrNzdTI8U"
      },
      "execution_count": null,
      "outputs": []
    },
    {
      "cell_type": "markdown",
      "source": [
        "#Cleaning Handcap column"
      ],
      "metadata": {
        "id": "1Av8ScgITLZy"
      }
    },
    {
      "cell_type": "code",
      "source": [
        "# viewing rows with values of handcap > 1\n",
        "df[df['Handcap'] > 1]"
      ],
      "metadata": {
        "id": "KB5VtMMeTROQ"
      },
      "execution_count": null,
      "outputs": []
    },
    {
      "cell_type": "markdown",
      "source": [
        "We have 199 rows with inconsistant values, we'd replace them with 1 to treat them as beeing handcaped"
      ],
      "metadata": {
        "id": "5sS9ysxkTTe6"
      }
    },
    {
      "cell_type": "code",
      "source": [
        "# filling the bigger values with 1\n",
        "df.loc[df['Handcap'].isin([2, 3, 4]), 'Handcap'] = 1\n",
        "\n",
        "# casting type and confirming changes\n",
        "df['Handcap'] = df['Handcap'].astype('bool')\n",
        "df['Handcap'].unique()"
      ],
      "metadata": {
        "id": "PqRCyJPnTWdD"
      },
      "execution_count": null,
      "outputs": []
    },
    {
      "cell_type": "markdown",
      "source": [
        "#Cleaning Age column"
      ],
      "metadata": {
        "id": "P7iOixjmTa6I"
      }
    },
    {
      "cell_type": "code",
      "source": [
        "#exploring values below 0\n",
        "df[df['Age'] < 0]"
      ],
      "metadata": {
        "id": "Z3s6N9J_TcS_"
      },
      "execution_count": null,
      "outputs": []
    },
    {
      "cell_type": "markdown",
      "source": [
        "we have one value with negative age, so we will drop it"
      ],
      "metadata": {
        "id": "URs3-FldThS0"
      }
    },
    {
      "cell_type": "code",
      "source": [
        "# dropping row with negative age and confirming changes\n",
        "df.drop(df[df['Age'] < 0].index, inplace = True)\n",
        "df[df['Age'] < 0]"
      ],
      "metadata": {
        "id": "6DUzAE0uTjtR"
      },
      "execution_count": null,
      "outputs": []
    },
    {
      "cell_type": "code",
      "source": [
        "df.head()"
      ],
      "metadata": {
        "id": "xTy9eQ50TmOH"
      },
      "execution_count": null,
      "outputs": []
    },
    {
      "cell_type": "code",
      "source": [
        "df.info()\n"
      ],
      "metadata": {
        "id": "fyUMhC02To91"
      },
      "execution_count": null,
      "outputs": []
    },
    {
      "cell_type": "markdown",
      "source": [
        "We endded up with a datafram of 110521 rows and 11 columns, and everything looks tidy and clean. We'd proceed in visualizing it to extract meaningful insights from it."
      ],
      "metadata": {
        "id": "MdqDIGvlVefA"
      }
    },
    {
      "cell_type": "markdown",
      "source": [
        "#Data Visualization and EDA\n",
        "\n",
        "Now that our data is clean, we'd perform some EDA on it in order to extract useful insights from it."
      ],
      "metadata": {
        "id": "9WKWjhbbVg4f"
      }
    },
    {
      "cell_type": "code",
      "source": [
        "# setting seaborn configurations\n",
        "sns.set_style(\"whitegrid\")"
      ],
      "metadata": {
        "id": "zLQUDoyxgjbE"
      },
      "execution_count": null,
      "outputs": []
    },
    {
      "cell_type": "markdown",
      "source": [
        "How often do men go to hospitals compared to women? Which of them is more likely to show up?"
      ],
      "metadata": {
        "id": "dYLAfcF7gmWN"
      }
    },
    {
      "cell_type": "code",
      "source": [
        "# viewing count plot of gender distribution in our dataset\n",
        "sns.countplot(x = 'Gender', data = df)\n",
        "plt.title(\"Gender Distribution\")\n",
        "plt.show()"
      ],
      "metadata": {
        "id": "FNta2CoPgoHv"
      },
      "execution_count": null,
      "outputs": []
    },
    {
      "cell_type": "code",
      "source": [
        "# viewing count plot of gender distribution against age in our dataset\n",
        "sns.boxplot(x = 'Gender', y = 'Age', data = df)\n",
        "plt.title(\"Gender Distribution against Age\")\n",
        "plt.show()"
      ],
      "metadata": {
        "id": "wOe0TIzlgqiA"
      },
      "execution_count": null,
      "outputs": []
    },
    {
      "cell_type": "markdown",
      "source": [
        "we can notice that nearly half of our dataset conists of women with wider age destribution and some outliers, all of which achiees a rate higher than men."
      ],
      "metadata": {
        "id": "xY4Hk7E5guub"
      }
    },
    {
      "cell_type": "code",
      "source": [
        "df['No-show'].value_counts()"
      ],
      "metadata": {
        "id": "id_ozS6ggw-c"
      },
      "execution_count": null,
      "outputs": []
    },
    {
      "cell_type": "markdown",
      "source": [
        "it is obvious that 79.8% of our patients did show up on their appointments and only 20.1% of them did not.\n",
        "lets dive deeper to see if this is related to gender."
      ],
      "metadata": {
        "id": "StW36CUYg5UB"
      }
    },
    {
      "cell_type": "code",
      "source": [
        "# showing the gender destribution with respect to the no-show colunmn\n",
        "sns.countplot(x = 'Gender', data = df, hue = 'No-show')\n",
        "plt.title('gender destribution with respect to no-show colunmn')\n",
        "plt.show()"
      ],
      "metadata": {
        "id": "YZg2D7lFg7hO"
      },
      "execution_count": null,
      "outputs": []
    },
    {
      "cell_type": "markdown",
      "source": [
        "from the above chart, we can come up with a conclusion that women do show up on their appointments more often than men do, but this may be affected by the percentage of women on this dataset."
      ],
      "metadata": {
        "id": "QSxWUAYFg_X5"
      }
    },
    {
      "cell_type": "markdown",
      "source": [
        "\n",
        "Does recieving an SMS as a reminder affect whether or not a patient may show up? is it correlated with number of days before the appointment?"
      ],
      "metadata": {
        "id": "_Abm5jIhhDad"
      }
    },
    {
      "cell_type": "code",
      "source": [
        "# viewing count plot of recieving SMS distribution in our dataset\n",
        "sns.countplot(x = 'SMS_received', data = df)\n",
        "plt.title(\"SMS received destribution\")\n",
        "plt.show()"
      ],
      "metadata": {
        "id": "Lkpbee1vhI5H"
      },
      "execution_count": null,
      "outputs": []
    },
    {
      "cell_type": "code",
      "source": [
        "df['SMS_received'].value_counts()"
      ],
      "metadata": {
        "id": "yUmWzAy3hLwv"
      },
      "execution_count": null,
      "outputs": []
    },
    {
      "cell_type": "markdown",
      "source": [
        "we can see that 67.8% of our patients did not reciee any SMS reminder of their appointments, cound this be affecting their showin up?"
      ],
      "metadata": {
        "id": "uZK_RdwghPkf"
      }
    },
    {
      "cell_type": "code",
      "source": [
        "# showing the sms destribution with respect to the no-show colunmn\n",
        "sns.countplot(x = 'SMS_received', data = df, hue = 'No-show')\n",
        "plt.title('SMS destribution with respect to no-show colunmn')\n",
        "plt.show()"
      ],
      "metadata": {
        "id": "l0xB7XQHhRxr"
      },
      "execution_count": null,
      "outputs": []
    },
    {
      "cell_type": "markdown",
      "source": [
        "we can see that our previous deduction was not quiet correct, as the vast majority of our patients did not recieve any SMS reminder and yet they showed up on their appointments."
      ],
      "metadata": {
        "id": "H6witFywhVxa"
      }
    },
    {
      "cell_type": "code",
      "source": [
        "# viewing the correlation between no-show and due-days without outliers\n",
        "sns.boxplot(x = 'No-show', y = 'due-days', data = df, showfliers = False)\n",
        "plt.title('no-show against due-days')\n",
        "plt.show()"
      ],
      "metadata": {
        "id": "gExf2S_ohYBa"
      },
      "execution_count": null,
      "outputs": []
    },
    {
      "cell_type": "markdown",
      "source": [
        "it is clear that there is a correlation between number od due days and whether a patient shows up or not.\n",
        "patient with appointments from 0 to 30 days tend to show up more regularly, while patients with higher number of days tend to not show up."
      ],
      "metadata": {
        "id": "5VBoluFwhagm"
      }
    },
    {
      "cell_type": "code",
      "source": [
        "# viewing the correlation between no-show and due-days without outliers with respect to gender\n",
        "sns.boxplot(x = 'No-show', y = 'due-days', data = df, hue = 'Gender', showfliers = False)\n",
        "plt.title('no-show against due-days')\n",
        "plt.show()"
      ],
      "metadata": {
        "id": "paipeS3yhczM"
      },
      "execution_count": null,
      "outputs": []
    },
    {
      "cell_type": "markdown",
      "source": [
        "Gender does not affect number of due days and showing up at an appointment that much."
      ],
      "metadata": {
        "id": "5eyfJ0qyhgJw"
      }
    },
    {
      "cell_type": "markdown",
      "source": [
        "\n",
        "Does having a scholarship affects showing up on a hospital appointment? What are the age groups affected by this?"
      ],
      "metadata": {
        "id": "n4Xz-fQ3hjC3"
      }
    },
    {
      "cell_type": "code",
      "source": [
        "# plotting having a scholarship against age\n",
        "sns.boxplot(x = 'Scholarship', y = 'Age', data = df)\n",
        "plt.title('shcolarship V.S. age')\n",
        "plt.show()"
      ],
      "metadata": {
        "id": "roNuMUtohjvj"
      },
      "execution_count": null,
      "outputs": []
    },
    {
      "cell_type": "code",
      "source": [
        "# plotting having a scholarship against no show with respect to gender\n",
        "sns.barplot(x = 'Scholarship', y = 'No-show', hue = 'Gender', data = df)\n",
        "plt.title('shcolarship V.S. no show with respect to gender')\n",
        "plt.show()"
      ],
      "metadata": {
        "id": "ZmdJE1Plho4j"
      },
      "execution_count": null,
      "outputs": []
    },
    {
      "cell_type": "code",
      "source": [
        "# ploting age destribution\n",
        "df['Age'].hist()"
      ],
      "metadata": {
        "id": "CVVSKVfthsiz"
      },
      "execution_count": null,
      "outputs": []
    },
    {
      "cell_type": "markdown",
      "source": [
        "we can see that having a scolarship does not affect showing up to a doctor appointment that much and that huge age group is enrolled to that scholarship and also enrol their babies on."
      ],
      "metadata": {
        "id": "6Lc6l71ohvUN"
      }
    },
    {
      "cell_type": "markdown",
      "source": [
        "\n",
        "Does having certain deseas affects whather or not a patient may show up to their appointment? is it affected by gender?"
      ],
      "metadata": {
        "id": "fMPDDDiAhxJq"
      }
    },
    {
      "cell_type": "code",
      "source": [
        "# plotting deseases against no show\n",
        "plt.figure(figsize=(15,10))\n",
        "plt.subplot(2,2,1)\n",
        "sns.countplot(x = 'Hipertension', data = df, hue= 'No-show')\n",
        "plt.subplot(2,2,2)\n",
        "sns.countplot(x = 'Diabetes', data = df, hue= 'No-show')\n",
        "plt.subplot(2,2,3)\n",
        "sns.countplot(x = 'Alcoholism', data = df, hue= 'No-show')\n",
        "plt.subplot(2,2,4)\n",
        "sns.countplot(x = 'Handcap', data = df, hue= 'No-show')\n",
        "plt.show()"
      ],
      "metadata": {
        "id": "_NJkY0v1hzUh"
      },
      "execution_count": null,
      "outputs": []
    },
    {
      "cell_type": "code",
      "source": [
        "# plotting deseases against no show with respect to age\n",
        "plt.figure(figsize=(15,10))\n",
        "plt.subplot(2,2,1)\n",
        "sns.barplot(x = 'Hipertension', y = 'Age', data = df, hue= 'No-show')\n",
        "plt.subplot(2,2,2)\n",
        "sns.barplot(x = 'Diabetes', y = 'Age', data = df, hue= 'No-show')\n",
        "plt.subplot(2,2,3)\n",
        "sns.barplot(x = 'Alcoholism', y = 'Age', data = df, hue= 'No-show')\n",
        "plt.subplot(2,2,4)\n",
        "sns.barplot(x = 'Handcap', y = 'Age', data = df, hue= 'No-show')\n",
        "plt.show()"
      ],
      "metadata": {
        "id": "A0VMkeUuh1qd"
      },
      "execution_count": null,
      "outputs": []
    },
    {
      "cell_type": "markdown",
      "source": [
        "from the previous set of plots, we can conclude that the vast majority of our dataset does not have chronic deseases, yet, they are existed in so many young people.\n",
        "having a chronic deseas may affect your showing up at a hospital's appointment."
      ],
      "metadata": {
        "id": "0JbZy8kBh5vu"
      }
    },
    {
      "cell_type": "markdown",
      "source": [
        "#Conclusion\n",
        "\n",
        "Q1: How often do men go to hospitals compared to women? Which of them is more likely to show up?\n",
        "Nearly half of our dataset conists of women with wider age destribution and some outliers, all of which achiees a rate higher than men.\n",
        "\n",
        "It is obvious that 79.8% of our patients did show up on their appointments and only 20.1% of them did not.\n",
        "\n",
        "Women do show up on their appointments more often than men do, but this may b affected by the percentage of women on this dataset.\n",
        "\n",
        "Q2: Does recieving an SMS as a reminder affect whether or not a patient may show up? is it correlated with number of days before the appointment?\n",
        "67.8% of our patients did not reciee any SMS reminder of their appointments, yet they showed up on their appointments.\n",
        "It is clear that there is a positive correlation between number of due days and whether a patient shows up or not.\n",
        "Patient with appointments from 0 to 30 days tend to show up more regularly, while patients with higher number of days tend to not show up.\n",
        "gender does not affect number of due days and showing up at an appointment that much.\n",
        "\n",
        "Q3: Does having a scholarship affects showing up on a hospital appointment? What are the age groups affected by this?\n",
        "Having a scholarship does not affect showing up to a doctor appointment that much.\n",
        "Huge age group is enrolled to that scholarship and also enrol their babies on.\n",
        "Q4: Does having certain deseases affect whather or not a patient may show up to their appointment? is it affected by gender?\n",
        "We can conclude that the vast majority of our dataset does not have chronic deseases, yet, they are existed in so many young people.\n",
        "Having a chronic deseas may affect your showing up at a hospital's appointment."
      ],
      "metadata": {
        "id": "uelMnloPh_aU"
      }
    },
    {
      "cell_type": "code",
      "source": [],
      "metadata": {
        "id": "ow7VNW8aiEjz"
      },
      "execution_count": null,
      "outputs": []
    }
  ]
}